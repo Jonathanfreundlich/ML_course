{
 "cells": [
  {
   "cell_type": "markdown",
   "id": "24fb98fc",
   "metadata": {},
   "source": [
    "# Recognizing handwritten digits with an artificial neural network "
   ]
  },
  {
   "cell_type": "markdown",
   "id": "13f85c37",
   "metadata": {},
   "source": [
    "We will develop and train an artificial neural network to recognize handwritten digits using the KERAS API in Python in combination with tensorflow, which is an open source platform for machine learning. \n",
    "\n",
    "The MNIST database of handwritten digits is described here: http://yann.lecun.com/exdb/mnist/. It provides a training set of 60,000 examples and a test set of 10,000 examples. The images are normalized and of fixed size. Many methods have already been tested on this database: what will be the error rate of your neural network? \n",
    "\n",
    "Documentation about KERAS can be found here: https://keras.io"
   ]
  },
  {
   "cell_type": "markdown",
   "id": "4d82f043",
   "metadata": {},
   "source": [
    "## Installation \n",
    "\n",
    "We first create a Python virtual environment to install KERAS, tensorflow, and their dependencies. \n",
    "\n",
    "### - On a local mac/linux computer\n",
    "\n",
    "````\n",
    "brew update\n",
    "brew install python3\n",
    "\n",
    "pip3 install virtualenv\n",
    "pip3 install −−user virtualenvwrapper\n",
    "export WORKON_HOME=./\n",
    "source ∼/.local/bin/virtualenvwrapper.sh -p $WORKON_HOME\n",
    "mkvirtualenv kerasenv -p python3\n",
    "workon kerasenv\n",
    "\n",
    "pip3 install jupyterlab\n",
    "pip3 install numpy scipy \n",
    "pip3 install scikit-learn\n",
    "pip3 install matplotlib \n",
    "pip3 install tensorflow\n",
    "pip3 install keras==2.3.1\n",
    "pip3 install seaborn\n",
    "````\n",
    "\n",
    "### - In a virtual environment on astromaster\n",
    "\n",
    "````\n",
    "python3 -m venv keras3 # To create a virtual environment keras3 with python3\n",
    "source keras3/bin/activate # To activate the virtual environment keras3\n",
    "\n",
    "pip3 install wheel\n",
    "pip3 install numpy scipy \n",
    "pip3 install matplotlib \n",
    "pip3 install scikit-learn\n",
    "pip3 install --upgrade tensorflow\n",
    "pip3 install keras==2.3.1\n",
    "pip3 install jupyterlab\n",
    "pip3 install seaborn\n",
    "````\n",
    "\n",
    "## Open a Jupyter Notebook\n",
    "\n",
    "### - On your local machine:\n",
    "\n",
    "````\n",
    "jupyter notebook\n",
    "````\n",
    "\n",
    "### - On astromaster\n",
    "\n",
    "Launch Jupyter Notebook on astromaster and access it from a remote machine using SSH, with a SSH tunnel:\n",
    "\n",
    "(1) On astromaster (change port number if needed)\n",
    "\n",
    "````\n",
    "jupyter notebook --no-browser --port=7777\n",
    "````\n",
    "\n",
    "(2) On your local machine (change username, requires a VPN to access astromaster)\n",
    "\n",
    "````\n",
    "ssh -L 7777:localhost:7777 jfreundlich@astromaster\n",
    "````\n",
    "\n",
    "(3) On your local brower, navigate to http://localhost:7777/\n",
    "Note: you will need the token number resulting from step (1)\n",
    "\n",
    "\n",
    "### - Create a new Python notebook: \n",
    "\n",
    "Create a new Python notebook from the menu at the top-right: \n",
    "\n",
    "<img src=\"newnotebook.png\">\n"
   ]
  },
  {
   "cell_type": "markdown",
   "id": "ce139a34",
   "metadata": {},
   "source": [
    "## Importations"
   ]
  },
  {
   "cell_type": "code",
   "execution_count": 1,
   "id": "e6beba9b",
   "metadata": {},
   "outputs": [],
   "source": [
    "import numpy as np\n",
    "import matplotlib.pyplot as plt\n",
    "plt.rcParams['figure.figsize'] = (7,7)\n",
    "\n",
    "from keras.datasets import mnist\n",
    "from keras.models import Sequential\n",
    "from keras.layers.core import Dense, Dropout, Activation\n",
    "from keras.utils import np_utils"
   ]
  },
  {
   "cell_type": "markdown",
   "id": "db360daf",
   "metadata": {},
   "source": [
    "## Load training data"
   ]
  },
  {
   "cell_type": "code",
   "execution_count": 2,
   "id": "37c00c3c",
   "metadata": {},
   "outputs": [],
   "source": [
    "nb_classes = 10\n",
    "(X_train, y_train), (X_test, y_test) = mnist.load_data()"
   ]
  },
  {
   "cell_type": "markdown",
   "id": "1d97bb31",
   "metadata": {},
   "source": [
    "Check data shape: "
   ]
  },
  {
   "cell_type": "code",
   "execution_count": 3,
   "id": "6f26a160",
   "metadata": {},
   "outputs": [
    {
     "name": "stdout",
     "output_type": "stream",
     "text": [
      "X_train original shape (60000, 28, 28)\n",
      "y_train original shape (60000,)\n",
      "X_test original shape (10000, 28, 28)\n",
      "y_test original shape (10000,)\n"
     ]
    }
   ],
   "source": [
    "print(\"X_train original shape\", X_train.shape)\n",
    "print(\"y_train original shape\", y_train.shape)\n",
    "print(\"X_test original shape\", X_test.shape)\n",
    "print(\"y_test original shape\", y_test.shape)"
   ]
  },
  {
   "cell_type": "markdown",
   "id": "2c93a7bd",
   "metadata": {},
   "source": [
    "Check some examples: "
   ]
  },
  {
   "cell_type": "code",
   "execution_count": 4,
   "id": "b3a9b66c",
   "metadata": {},
   "outputs": [
    {
     "data": {
      "image/png": "[encoded data removed]",
      "text/plain": [
       "<Figure size 504x504 with 9 Axes>"
      ]
     },
     "metadata": {
      "needs_background": "light"
     },
     "output_type": "display_data"
    }
   ],
   "source": [
    "for i in range(9):\n",
    "    plt.subplot(3,3,i+1)\n",
    "    plt.imshow(X_train[i], cmap='gray', interpolation='none')\n",
    "    plt.title(\"Class {}\".format(y_train[i]))"
   ]
  },
  {
   "cell_type": "markdown",
   "id": "26c0b108",
   "metadata": {},
   "source": [
    "Check min, max:"
   ]
  },
  {
   "cell_type": "code",
   "execution_count": 5,
   "id": "77089701",
   "metadata": {},
   "outputs": [
    {
     "name": "stdout",
     "output_type": "stream",
     "text": [
      "X_train min= 0 ,max= 255\n",
      "y_train min= 0 ,max= 9\n"
     ]
    }
   ],
   "source": [
    "print(\"X_train min=\",X_train.min(),\",max=\",X_train.max())\n",
    "print(\"y_train min=\",y_train.min(),\",max=\",y_train.max())"
   ]
  },
  {
   "cell_type": "markdown",
   "id": "8ba5d22f",
   "metadata": {},
   "source": [
    "## Format the data for training"
   ]
  },
  {
   "cell_type": "markdown",
   "id": "7a495b97",
   "metadata": {},
   "source": [
    "The neural network is going to take a single vector for each training example, so we need to reshape the input so that each 28x28 image becomes a single 784 dimensional vector. We'll also scale the inputs to be in the range [0-1] rather than [0-255]."
   ]
  },
  {
   "cell_type": "code",
   "execution_count": 6,
   "id": "4bbd2c67",
   "metadata": {},
   "outputs": [
    {
     "name": "stdout",
     "output_type": "stream",
     "text": [
      "Training matrix shape (60000, 784)\n",
      "Testing matrix shape (10000, 784)\n"
     ]
    }
   ],
   "source": [
    "X_train = X_train.reshape(60000, 784)\n",
    "X_test = X_test.reshape(10000, 784)\n",
    "X_train = X_train.astype('float32')\n",
    "X_test = X_test.astype('float32')\n",
    "X_train /= 255\n",
    "X_test /= 255\n",
    "print(\"Training matrix shape\", X_train.shape)\n",
    "print(\"Testing matrix shape\", X_test.shape)"
   ]
  },
  {
   "cell_type": "markdown",
   "id": "7e85a6ed",
   "metadata": {},
   "source": [
    "Modify the target matrices to be in the one-hot format, i.e.\n",
    "\n",
    "```\n",
    "0 -> [1, 0, 0, 0, 0, 0, 0, 0, 0]\n",
    "1 -> [0, 1, 0, 0, 0, 0, 0, 0, 0]\n",
    "2 -> [0, 0, 1, 0, 0, 0, 0, 0, 0]\n",
    "etc.\n",
    "```"
   ]
  },
  {
   "cell_type": "code",
   "execution_count": 8,
   "id": "1cfba90a",
   "metadata": {},
   "outputs": [],
   "source": [
    "Y_train = np_utils.to_categorical(y_train, nb_classes)\n",
    "Y_test = np_utils.to_categorical(y_test, nb_classes)"
   ]
  },
  {
   "cell_type": "code",
   "execution_count": 9,
   "id": "fa01049d",
   "metadata": {},
   "outputs": [
    {
     "name": "stdout",
     "output_type": "stream",
     "text": [
      "Training matrix shape (60000, 10)\n",
      "Testing matrix shape (10000, 10)\n"
     ]
    }
   ],
   "source": [
    "print(\"Training matrix shape\", Y_train.shape)\n",
    "print(\"Testing matrix shape\", Y_test.shape)"
   ]
  },
  {
   "cell_type": "markdown",
   "id": "a1225d69",
   "metadata": {},
   "source": [
    "## Building the neural network\n",
    "\n",
    "We define a sequential model with three layers incrementally. "
   ]
  },
  {
   "cell_type": "code",
   "execution_count": 16,
   "id": "7921026a",
   "metadata": {},
   "outputs": [],
   "source": [
    "model = Sequential()\n",
    "model.add(Dense(5, input_shape=(784,)))\n",
    "model.add(Activation('relu')) # An \"activation\" is just a non-linear function applied to the output\n",
    "                              # of the layer above. Here, with a \"rectified linear unit\",\n",
    "                              # we clamp all values below 0 to 0.\n",
    "                           \n",
    "#model.add(Dropout(0.2))   # Dropout helps protect the model from memorizing or \"overfitting\" the training data\n",
    "model.add(Dense(5))\n",
    "model.add(Activation('relu'))\n",
    "#model.add(Dropout(0.2))\n",
    "model.add(Dense(10))\n",
    "model.add(Activation('softmax')) # This special \"softmax\" activation among other things,\n",
    "                                 # ensures the output is a valid probaility distribution, that is\n",
    "                                 # that its values are all non-negative and sum to 1."
   ]
  },
  {
   "cell_type": "markdown",
   "id": "b5418b5d",
   "metadata": {},
   "source": [
    "Display the contents of the model:  "
   ]
  },
  {
   "cell_type": "code",
   "execution_count": 17,
   "id": "c78c94e7",
   "metadata": {},
   "outputs": [
    {
     "name": "stdout",
     "output_type": "stream",
     "text": [
      "Model: \"sequential_2\"\n",
      "_________________________________________________________________\n",
      " Layer (type)                Output Shape              Param #   \n",
      "=================================================================\n",
      " dense_6 (Dense)             (None, 5)                 3925      \n",
      "                                                                 \n",
      " activation_6 (Activation)   (None, 5)                 0         \n",
      "                                                                 \n",
      " dense_7 (Dense)             (None, 5)                 30        \n",
      "                                                                 \n",
      " activation_7 (Activation)   (None, 5)                 0         \n",
      "                                                                 \n",
      " dense_8 (Dense)             (None, 10)                60        \n",
      "                                                                 \n",
      " activation_8 (Activation)   (None, 10)                0         \n",
      "                                                                 \n",
      "=================================================================\n",
      "Total params: 4,015\n",
      "Trainable params: 4,015\n",
      "Non-trainable params: 0\n",
      "_________________________________________________________________\n"
     ]
    }
   ],
   "source": [
    "model.summary()"
   ]
  },
  {
   "cell_type": "markdown",
   "id": "459b2648",
   "metadata": {},
   "source": [
    "Compilation of the model: "
   ]
  },
  {
   "cell_type": "code",
   "execution_count": 18,
   "id": "d8a2e943",
   "metadata": {},
   "outputs": [],
   "source": [
    "model.compile(loss='categorical_crossentropy', optimizer='adam')"
   ]
  },
  {
   "cell_type": "markdown",
   "id": "296712c2",
   "metadata": {},
   "source": [
    "Other possible loss functions include: \n",
    "\n",
    "    model.compile(loss='mean_squared_error', optimizer='adam')\n",
    "    \n",
    "    model.compile(loss='Poisson', optimizer='adam')\n",
    "    \n",
    "    def my_loss_fn(y_true, y_pred):\n",
    "      squared_difference = (y_true - y_pred)**2\n",
    "      return np.mean(squared_difference)   \n",
    "     \n",
    "    model.compile(loss='my_loss_fn', optimizer='adam')\n",
    "\n",
    "etc..."
   ]
  },
  {
   "cell_type": "code",
   "execution_count": 19,
   "id": "db78e2db",
   "metadata": {},
   "outputs": [
    {
     "data": {
      "text/plain": [
       "((60000, 784), (60000, 10), (10000, 784), (10000, 10))"
      ]
     },
     "execution_count": 19,
     "metadata": {},
     "output_type": "execute_result"
    }
   ],
   "source": [
    "X_train.shape, Y_train.shape, X_test.shape, Y_test.shape"
   ]
  },
  {
   "cell_type": "code",
   "execution_count": 20,
   "id": "61bb7c30",
   "metadata": {},
   "outputs": [
    {
     "name": "stdout",
     "output_type": "stream",
     "text": [
      "Epoch 1/10\n",
      "600/600 [==============================] - 1s 1ms/step - loss: 1.4288 - val_loss: 0.8679\n",
      "Epoch 2/10\n",
      "600/600 [==============================] - 1s 992us/step - loss: 0.7294 - val_loss: 0.6292\n",
      "Epoch 3/10\n",
      "600/600 [==============================] - 1s 995us/step - loss: 0.5971 - val_loss: 0.5454\n",
      "Epoch 4/10\n",
      "600/600 [==============================] - 1s 1ms/step - loss: 0.5309 - val_loss: 0.5017\n",
      "Epoch 5/10\n",
      "600/600 [==============================] - 1s 1ms/step - loss: 0.4936 - val_loss: 0.4831\n",
      "Epoch 6/10\n",
      "600/600 [==============================] - 1s 1ms/step - loss: 0.4722 - val_loss: 0.4673\n",
      "Epoch 7/10\n",
      "600/600 [==============================] - 1s 1ms/step - loss: 0.4582 - val_loss: 0.4560\n",
      "Epoch 8/10\n",
      "600/600 [==============================] - 1s 1ms/step - loss: 0.4478 - val_loss: 0.4539\n",
      "Epoch 9/10\n",
      "600/600 [==============================] - 1s 1ms/step - loss: 0.4395 - val_loss: 0.4467\n",
      "Epoch 10/10\n",
      "600/600 [==============================] - 1s 1ms/step - loss: 0.4335 - val_loss: 0.4426\n"
     ]
    }
   ],
   "source": [
    "history=model.fit(X_train, Y_train,\n",
    "          batch_size=100, epochs=10,\n",
    "          validation_data=(X_test, Y_test))"
   ]
  },
  {
   "cell_type": "markdown",
   "id": "43925092",
   "metadata": {},
   "source": [
    "## Evaluate performance "
   ]
  },
  {
   "cell_type": "code",
   "execution_count": 21,
   "id": "84c56fa0",
   "metadata": {},
   "outputs": [],
   "source": [
    "# The predict_classes function outputs the highest probability class\n",
    "# according to the trained classifier for each input example.\n",
    "predict=model.predict(X_test) \n",
    "Ytest_predicted=np.argmax(predict,axis=1)\n",
    "Y_test_pred = np_utils.to_categorical(Ytest_predicted, nb_classes)\n",
    "\n",
    "# Check which items we got right / wrong\n",
    "correct_indices = np.nonzero(Ytest_predicted == y_test)[0]\n",
    "incorrect_indices = np.nonzero(Ytest_predicted != y_test)[0]"
   ]
  },
  {
   "cell_type": "markdown",
   "id": "14e31907",
   "metadata": {},
   "source": [
    "### Plot correctly or incorrectly classified examples"
   ]
  },
  {
   "cell_type": "markdown",
   "id": "ff602233",
   "metadata": {},
   "source": [
    "### Calculate the global accuracy and the error rate"
   ]
  },
  {
   "cell_type": "code",
   "execution_count": null,
   "id": "aa4935fd",
   "metadata": {},
   "outputs": [],
   "source": [
    "### "
   ]
  },
  {
   "cell_type": "markdown",
   "id": "fa27e8a0",
   "metadata": {},
   "source": [
    "### ROC curve"
   ]
  },
  {
   "cell_type": "code",
   "execution_count": 20,
   "id": "00f9840c",
   "metadata": {},
   "outputs": [],
   "source": [
    "from sklearn.metrics import roc_curve,auc\n",
    "\n",
    "# Compute ROC curve and ROC area for each class\n",
    "fpr = dict()\n",
    "tpr = dict()\n",
    "roc_auc = dict()\n",
    "for i in range(nb_classes):\n",
    "    fpr[i], tpr[i], _ = roc_curve(Y_test[:, i], Y_test_pred[:, i])\n",
    "    roc_auc[i] = auc(fpr[i], tpr[i])\n"
   ]
  },
  {
   "cell_type": "markdown",
   "id": "9f33ecdf",
   "metadata": {},
   "source": [
    "### Precision-Recall curve"
   ]
  },
  {
   "cell_type": "code",
   "execution_count": 23,
   "id": "ff90fb69",
   "metadata": {},
   "outputs": [],
   "source": [
    "from sklearn.metrics import precision_recall_curve\n",
    "\n",
    "# Compute precision and recall for each class\n",
    "precision = dict()\n",
    "recall = dict()\n",
    "for i in range(nb_classes):\n",
    "    precision[i], recall[i], _ = precision_recall_curve(Y_test[:, i], Y_test_pred[:, i])\n"
   ]
  },
  {
   "cell_type": "markdown",
   "id": "f145300a",
   "metadata": {},
   "source": [
    "### Confusion matrix"
   ]
  },
  {
   "cell_type": "code",
   "execution_count": 1,
   "id": "35346b5f",
   "metadata": {},
   "outputs": [
    {
     "ename": "NameError",
     "evalue": "name 'Y_test' is not defined",
     "output_type": "error",
     "traceback": [
      "\u001b[0;31m---------------------------------------------------------------------------\u001b[0m",
      "\u001b[0;31mNameError\u001b[0m                                 Traceback (most recent call last)",
      "\u001b[0;32m<ipython-input-1-9e9347bbe2e9>\u001b[0m in \u001b[0;36m<module>\u001b[0;34m\u001b[0m\n\u001b[1;32m      2\u001b[0m \u001b[0;34m\u001b[0m\u001b[0m\n\u001b[1;32m      3\u001b[0m \u001b[0;31m#The input to confusion_matrix must be an array of int not one hot encodings\u001b[0m\u001b[0;34m\u001b[0m\u001b[0;34m\u001b[0m\u001b[0;34m\u001b[0m\u001b[0m\n\u001b[0;32m----> 4\u001b[0;31m \u001b[0mmatrix\u001b[0m \u001b[0;34m=\u001b[0m \u001b[0mconfusion_matrix\u001b[0m\u001b[0;34m(\u001b[0m\u001b[0mY_test\u001b[0m\u001b[0;34m.\u001b[0m\u001b[0margmax\u001b[0m\u001b[0;34m(\u001b[0m\u001b[0maxis\u001b[0m\u001b[0;34m=\u001b[0m\u001b[0;36m1\u001b[0m\u001b[0;34m)\u001b[0m\u001b[0;34m,\u001b[0m \u001b[0mY_test_pred\u001b[0m\u001b[0;34m.\u001b[0m\u001b[0margmax\u001b[0m\u001b[0;34m(\u001b[0m\u001b[0maxis\u001b[0m\u001b[0;34m=\u001b[0m\u001b[0;36m1\u001b[0m\u001b[0;34m)\u001b[0m\u001b[0;34m)\u001b[0m\u001b[0;34m\u001b[0m\u001b[0;34m\u001b[0m\u001b[0m\n\u001b[0m",
      "\u001b[0;31mNameError\u001b[0m: name 'Y_test' is not defined"
     ]
    }
   ],
   "source": [
    "from sklearn.metrics import confusion_matrix, plot_confusion_matrix\n",
    "\n",
    "#The input to confusion_matrix must be an array of int not one hot encodings\n",
    "matrix = confusion_matrix(Y_test.argmax(axis=1), Y_test_pred.argmax(axis=1))"
   ]
  },
  {
   "cell_type": "code",
   "execution_count": null,
   "id": "93a18bcd",
   "metadata": {},
   "outputs": [],
   "source": []
  }
 ],
 "metadata": {
  "kernelspec": {
   "display_name": "Python 3 (ipykernel)",
   "language": "python",
   "name": "python3"
  },
  "language_info": {
   "codemirror_mode": {
    "name": "ipython",
    "version": 3
   },
   "file_extension": ".py",
   "mimetype": "text/x-python",
   "name": "python",
   "nbconvert_exporter": "python",
   "pygments_lexer": "ipython3",
   "version": "3.9.9"
  }
 },
 "nbformat": 4,
 "nbformat_minor": 5
}
