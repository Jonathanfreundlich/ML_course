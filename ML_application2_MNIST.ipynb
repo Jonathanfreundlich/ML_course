{
 "cells": [
  {
   "cell_type": "markdown",
   "id": "24fb98fc",
   "metadata": {},
   "source": [
    "# Recognizing handwritten digits with a *convolutional* neural network "
   ]
  },
  {
   "cell_type": "markdown",
   "id": "13f85c37",
   "metadata": {},
   "source": [
    "We will develop and train a *convolutional* neural network to recognize handwritten digits using the KERAS API in Python in combination with tensorflow, which is an open source platform for machine learning. \n",
    "\n",
    "The MNIST database of handwritten digits is described here: http://yann.lecun.com/exdb/mnist/. It provides a training set of 60,000 examples and a test set of 10,000 examples. The images are normalized and of fixed size. Many methods have already been tested on this database: what will be the error rate of your neural network? \n",
    "\n",
    "Documentation about KERAS can be found here: https://keras.io"
   ]
  },
  {
   "cell_type": "markdown",
   "id": "4d82f043",
   "metadata": {},
   "source": [
    "## Installation \n",
    "\n",
    "We first create a Python virtual environment to install KERAS, tensorflow, and their dependencies. \n",
    "\n",
    "### - On a local mac/linux computer\n",
    "\n",
    "````\n",
    "brew update\n",
    "brew install python3\n",
    "\n",
    "pip3 install virtualenv\n",
    "pip3 install −−user virtualenvwrapper\n",
    "export WORKON_HOME=./\n",
    "source ∼/.local/bin/virtualenvwrapper.sh -p $WORKON_HOME\n",
    "mkvirtualenv kerasenv -p python3\n",
    "workon kerasenv\n",
    "\n",
    "pip3 install jupyterlab\n",
    "pip3 install numpy scipy \n",
    "pip3 install scikit-learn\n",
    "pip3 install matplotlib \n",
    "pip3 install tensorflow\n",
    "pip3 install keras==2.3.1\n",
    "pip3 install seaborn\n",
    "````\n",
    "\n",
    "### - In a virtual environment on astromaster\n",
    "\n",
    "````\n",
    "python3 -m venv keras3 # To create a virtual environment keras3 with python3\n",
    "source keras3/bin/activate # To activate the virtual environment keras3\n",
    "\n",
    "pip3 install wheel\n",
    "pip3 install numpy scipy \n",
    "pip3 install matplotlib \n",
    "pip3 install scikit-learn\n",
    "pip3 install --upgrade tensorflow\n",
    "pip3 install keras==2.3.1\n",
    "pip3 install jupyterlab\n",
    "pip3 install seaborn\n",
    "````\n",
    "\n",
    "## Open a Jupyter Notebook\n",
    "\n",
    "### - On your local machine:\n",
    "\n",
    "````\n",
    "jupyter notebook\n",
    "````\n",
    "\n",
    "### - On astromaster \n",
    "\n",
    "Launch Jupyter Notebook on astromaster and access it from a remote machine using SSH, with a SSH tunnel:\n",
    "\n",
    "(1) On astromaster (change port number if needed)\n",
    "\n",
    "````\n",
    "jupyter notebook --no-browser --port=7777\n",
    "````\n",
    "\n",
    "(2) On your local machine (change username, requires a VPN to access astromaster)\n",
    "\n",
    "````\n",
    "ssh -L 7777:localhost:7777 jfreundlich@astromaster\n",
    "````\n",
    "\n",
    "(3) On your local brower, navigate to http://localhost:7777/\n",
    "Note: you will need the token number resulting from step (1)\n",
    "\n",
    "\n",
    "### - Create a new Python notebook: \n",
    "\n",
    "Create a new Python notebook from the menu at the top-right: \n",
    "\n",
    "<img src=\"newnotebook.png\">\n"
   ]
  },
  {
   "cell_type": "markdown",
   "id": "ce139a34",
   "metadata": {},
   "source": [
    "## Importations"
   ]
  },
  {
   "cell_type": "code",
   "execution_count": 1,
   "id": "e6beba9b",
   "metadata": {},
   "outputs": [],
   "source": [
    "import numpy as np\n",
    "import matplotlib.pyplot as plt\n",
    "plt.rcParams['figure.figsize'] = (7,7)\n",
    "\n",
    "from keras.datasets import mnist\n",
    "from keras.models import Sequential\n",
    "from keras.layers.core import Dense, Dropout, Activation\n",
    "from keras.utils import np_utils"
   ]
  },
  {
   "cell_type": "markdown",
   "id": "db360daf",
   "metadata": {},
   "source": [
    "## Load training data"
   ]
  },
  {
   "cell_type": "code",
   "execution_count": 2,
   "id": "37c00c3c",
   "metadata": {},
   "outputs": [],
   "source": [
    "nb_classes = 10\n",
    "(X_train, y_train), (X_test, y_test) = mnist.load_data()"
   ]
  },
  {
   "cell_type": "markdown",
   "id": "1d97bb31",
   "metadata": {},
   "source": [
    "Check data shape: "
   ]
  },
  {
   "cell_type": "code",
   "execution_count": 3,
   "id": "6f26a160",
   "metadata": {},
   "outputs": [
    {
     "name": "stdout",
     "output_type": "stream",
     "text": [
      "X_train original shape (60000, 28, 28)\n",
      "y_train original shape (60000,)\n",
      "X_test original shape (10000, 28, 28)\n",
      "y_test original shape (10000,)\n"
     ]
    }
   ],
   "source": [
    "print(\"X_train original shape\", X_train.shape)\n",
    "print(\"y_train original shape\", y_train.shape)\n",
    "print(\"X_test original shape\", X_test.shape)\n",
    "print(\"y_test original shape\", y_test.shape)"
   ]
  },
  {
   "cell_type": "markdown",
   "id": "2c93a7bd",
   "metadata": {},
   "source": [
    "Check some examples: "
   ]
  },
  {
   "cell_type": "code",
   "execution_count": 4,
   "id": "b3a9b66c",
   "metadata": {},
   "outputs": [
    {
     "data": {
      "image/png": "[encoded data removed]",
      "text/plain": [
       "<Figure size 504x504 with 9 Axes>"
      ]
     },
     "metadata": {
      "needs_background": "light"
     },
     "output_type": "display_data"
    }
   ],
   "source": [
    "for i in range(9):\n",
    "    plt.subplot(3,3,i+1)\n",
    "    plt.imshow(X_train[i], cmap='gray', interpolation='none')\n",
    "    plt.title(\"Class {}\".format(y_train[i]))"
   ]
  },
  {
   "cell_type": "markdown",
   "id": "8ba5d22f",
   "metadata": {},
   "source": [
    "## Prepare the data for training"
   ]
  },
  {
   "cell_type": "markdown",
   "id": "7a495b97",
   "metadata": {},
   "source": [
    "We scale the inputs to be in the range [0-1] rather than [0-255], but we keep the 28x28 pixels format. "
   ]
  },
  {
   "cell_type": "code",
   "execution_count": 5,
   "id": "4bbd2c67",
   "metadata": {},
   "outputs": [
    {
     "name": "stdout",
     "output_type": "stream",
     "text": [
      "Training matrix shape (60000, 28, 28)\n",
      "Testing matrix shape (10000, 28, 28)\n"
     ]
    }
   ],
   "source": [
    "xmax=X_train.max()\n",
    "X_train = X_train / xmax\n",
    "X_test  = X_test  / xmax\n",
    "\n",
    "print(\"Training matrix shape\", X_train.shape)\n",
    "print(\"Testing matrix shape\", X_test.shape)"
   ]
  },
  {
   "cell_type": "markdown",
   "id": "a1225d69",
   "metadata": {},
   "source": [
    "## Building the neural network\n",
    "\n",
    "We define a sequential model with three layers incrementally. "
   ]
  },
  {
   "cell_type": "code",
   "execution_count": 12,
   "id": "9ff90bdc",
   "metadata": {},
   "outputs": [],
   "source": [
    "from keras import layers\n",
    "\n",
    "model = Sequential()\n",
    "\n",
    "model.add( layers.Input((28,28,1)) )\n",
    "\n",
    "model.add( layers.Conv2D(8, (3,3),  activation='relu') )\n",
    "model.add( layers.MaxPooling2D((2,2)))\n",
    "model.add( layers.Dropout(0.2))\n",
    "\n",
    "model.add( layers.Conv2D(16, (3,3), activation='relu') )\n",
    "model.add( layers.MaxPooling2D((2,2)))\n",
    "model.add( layers.Dropout(0.2))\n",
    "\n",
    "model.add( layers.Flatten()) \n",
    "model.add( layers.Dense(100, activation='relu'))\n",
    "model.add( layers.Dropout(0.5))\n",
    "\n",
    "model.add( layers.Dense(10, activation='softmax'))"
   ]
  },
  {
   "cell_type": "markdown",
   "id": "b5418b5d",
   "metadata": {},
   "source": [
    "Display the contents of the model:  "
   ]
  },
  {
   "cell_type": "code",
   "execution_count": 13,
   "id": "c78c94e7",
   "metadata": {},
   "outputs": [
    {
     "name": "stdout",
     "output_type": "stream",
     "text": [
      "Model: \"sequential_2\"\n",
      "_________________________________________________________________\n",
      " Layer (type)                Output Shape              Param #   \n",
      "=================================================================\n",
      " conv2d_4 (Conv2D)           (None, 26, 26, 8)         80        \n",
      "                                                                 \n",
      " max_pooling2d_4 (MaxPooling  (None, 13, 13, 8)        0         \n",
      " 2D)                                                             \n",
      "                                                                 \n",
      " dropout_4 (Dropout)         (None, 13, 13, 8)         0         \n",
      "                                                                 \n",
      " conv2d_5 (Conv2D)           (None, 11, 11, 16)        1168      \n",
      "                                                                 \n",
      " max_pooling2d_5 (MaxPooling  (None, 5, 5, 16)         0         \n",
      " 2D)                                                             \n",
      "                                                                 \n",
      " dropout_5 (Dropout)         (None, 5, 5, 16)          0         \n",
      "                                                                 \n",
      " flatten (Flatten)           (None, 400)               0         \n",
      "                                                                 \n",
      " dense_2 (Dense)             (None, 100)               40100     \n",
      "                                                                 \n",
      " dropout_6 (Dropout)         (None, 100)               0         \n",
      "                                                                 \n",
      " dense_3 (Dense)             (None, 10)                1010      \n",
      "                                                                 \n",
      "=================================================================\n",
      "Total params: 42,358\n",
      "Trainable params: 42,358\n",
      "Non-trainable params: 0\n",
      "_________________________________________________________________\n"
     ]
    }
   ],
   "source": [
    "model.summary()"
   ]
  },
  {
   "cell_type": "markdown",
   "id": "459b2648",
   "metadata": {},
   "source": [
    "Compilation of the model: "
   ]
  },
  {
   "cell_type": "code",
   "execution_count": 14,
   "id": "d8a2e943",
   "metadata": {},
   "outputs": [],
   "source": [
    "model.compile(optimizer='adam', loss='sparse_categorical_crossentropy',metrics=['accuracy'])"
   ]
  },
  {
   "cell_type": "markdown",
   "id": "ac13f441",
   "metadata": {},
   "source": [
    "## Train the model"
   ]
  },
  {
   "cell_type": "code",
   "execution_count": 15,
   "id": "61bb7c30",
   "metadata": {},
   "outputs": [
    {
     "name": "stdout",
     "output_type": "stream",
     "text": [
      "Epoch 1/16\n",
      "118/118 [==============================] - 6s 50ms/step - loss: 1.1277 - accuracy: 0.6273 - val_loss: 0.2845 - val_accuracy: 0.9233\n",
      "Epoch 2/16\n",
      "118/118 [==============================] - 6s 53ms/step - loss: 0.3867 - accuracy: 0.8791 - val_loss: 0.1499 - val_accuracy: 0.9545\n",
      "Epoch 3/16\n",
      "118/118 [==============================] - 6s 53ms/step - loss: 0.2702 - accuracy: 0.9176 - val_loss: 0.1081 - val_accuracy: 0.9670\n",
      "Epoch 4/16\n",
      "118/118 [==============================] - 7s 60ms/step - loss: 0.2177 - accuracy: 0.9345 - val_loss: 0.0874 - val_accuracy: 0.9732\n",
      "Epoch 5/16\n",
      "118/118 [==============================] - 7s 56ms/step - loss: 0.1912 - accuracy: 0.9423 - val_loss: 0.0747 - val_accuracy: 0.9765\n",
      "Epoch 6/16\n",
      "118/118 [==============================] - 7s 58ms/step - loss: 0.1748 - accuracy: 0.9471 - val_loss: 0.0687 - val_accuracy: 0.9775\n",
      "Epoch 7/16\n",
      "118/118 [==============================] - 7s 59ms/step - loss: 0.1585 - accuracy: 0.9519 - val_loss: 0.0622 - val_accuracy: 0.9793\n",
      "Epoch 8/16\n",
      "118/118 [==============================] - 7s 58ms/step - loss: 0.1468 - accuracy: 0.9555 - val_loss: 0.0564 - val_accuracy: 0.9825\n",
      "Epoch 9/16\n",
      "118/118 [==============================] - 8s 72ms/step - loss: 0.1422 - accuracy: 0.9568 - val_loss: 0.0539 - val_accuracy: 0.9823\n",
      "Epoch 10/16\n",
      "118/118 [==============================] - 7s 61ms/step - loss: 0.1349 - accuracy: 0.9582 - val_loss: 0.0537 - val_accuracy: 0.9816\n",
      "Epoch 11/16\n",
      "118/118 [==============================] - 7s 61ms/step - loss: 0.1272 - accuracy: 0.9620 - val_loss: 0.0473 - val_accuracy: 0.9838\n",
      "Epoch 12/16\n",
      "118/118 [==============================] - 8s 67ms/step - loss: 0.1232 - accuracy: 0.9629 - val_loss: 0.0456 - val_accuracy: 0.9834\n",
      "Epoch 13/16\n",
      "118/118 [==============================] - 7s 59ms/step - loss: 0.1192 - accuracy: 0.9646 - val_loss: 0.0451 - val_accuracy: 0.9846\n",
      "Epoch 14/16\n",
      "118/118 [==============================] - 7s 57ms/step - loss: 0.1154 - accuracy: 0.9650 - val_loss: 0.0422 - val_accuracy: 0.9849\n",
      "Epoch 15/16\n",
      "118/118 [==============================] - 7s 56ms/step - loss: 0.1111 - accuracy: 0.9656 - val_loss: 0.0414 - val_accuracy: 0.9856\n",
      "Epoch 16/16\n",
      "118/118 [==============================] - 7s 58ms/step - loss: 0.1080 - accuracy: 0.9679 - val_loss: 0.0395 - val_accuracy: 0.9863\n"
     ]
    }
   ],
   "source": [
    "batch_size  = 512\n",
    "epochs      =  16\n",
    "\n",
    "history = model.fit(  X_train, y_train,\n",
    "                      batch_size      = batch_size,\n",
    "                      epochs          = epochs,\n",
    "                      verbose         = 1,\n",
    "                      validation_data = (X_test, y_test))"
   ]
  },
  {
   "cell_type": "markdown",
   "id": "43925092",
   "metadata": {},
   "source": [
    "## Evaluate performance "
   ]
  },
  {
   "cell_type": "code",
   "execution_count": 16,
   "id": "84c56fa0",
   "metadata": {},
   "outputs": [],
   "source": [
    "# The predict_classes function outputs the highest probability class\n",
    "# according to the trained classifier for each input example.\n",
    "predict=model.predict(X_test) \n",
    "Ytest_predicted=np.argmax(predict,axis=1)\n",
    "Y_test_pred = np_utils.to_categorical(Ytest_predicted, nb_classes)\n",
    "\n",
    "# Check which items we got right / wrong\n",
    "correct_indices = np.nonzero(Ytest_predicted == y_test)[0]\n",
    "incorrect_indices = np.nonzero(Ytest_predicted != y_test)[0]"
   ]
  },
  {
   "cell_type": "markdown",
   "id": "14e31907",
   "metadata": {},
   "source": [
    "### Plot correctly or incorrectly classified examples"
   ]
  },
  {
   "cell_type": "code",
   "execution_count": 17,
   "id": "34a5e6bd",
   "metadata": {},
   "outputs": [
    {
     "data": {
      "image/png": "[encoded data removed]",
      "text/plain": [
       "<Figure size 504x504 with 9 Axes>"
      ]
     },
     "metadata": {
      "needs_background": "light"
     },
     "output_type": "display_data"
    },
    {
     "data": {
      "image/png": "[encoded data removed]",
      "text/plain": [
       "<Figure size 504x504 with 9 Axes>"
      ]
     },
     "metadata": {
      "needs_background": "light"
     },
     "output_type": "display_data"
    }
   ],
   "source": [
    "plt.figure()\n",
    "for i, correct in enumerate(correct_indices[:9]):\n",
    "    plt.subplot(3,3,i+1)\n",
    "    plt.imshow(X_test[correct].reshape(28,28), cmap='gray', interpolation='none')\n",
    "    plt.title(\"Predicted {}, Class {}\".format(Ytest_predicted[correct], y_test[correct]))\n",
    "    \n",
    "plt.figure()\n",
    "for i, incorrect in enumerate(incorrect_indices[:9]):\n",
    "    plt.subplot(3,3,i+1)\n",
    "    plt.imshow(X_test[incorrect].reshape(28,28), cmap='gray', interpolation='none')\n",
    "    plt.title(\"Predicted {}, Class {}\".format(Ytest_predicted[incorrect], y_test[incorrect]))"
   ]
  },
  {
   "cell_type": "markdown",
   "id": "ff602233",
   "metadata": {},
   "source": [
    "### Calculate the global accuracy and the error rate"
   ]
  },
  {
   "cell_type": "markdown",
   "id": "81df7f88",
   "metadata": {},
   "source": [
    "### Model training history"
   ]
  },
  {
   "cell_type": "code",
   "execution_count": 19,
   "id": "94804125",
   "metadata": {},
   "outputs": [
    {
     "name": "stdout",
     "output_type": "stream",
     "text": [
      "dict_keys(['loss', 'accuracy', 'val_loss', 'val_accuracy'])\n"
     ]
    }
   ],
   "source": [
    "# list all data in history\n",
    "print(history.history.keys())"
   ]
  },
  {
   "cell_type": "markdown",
   "id": "fa27e8a0",
   "metadata": {},
   "source": [
    "### ROC curve"
   ]
  },
  {
   "cell_type": "code",
   "execution_count": 32,
   "id": "00f9840c",
   "metadata": {},
   "outputs": [],
   "source": [
    "from sklearn.metrics import roc_curve,auc\n",
    "\n",
    "# Compute ROC curve and ROC area for each class\n",
    "fpr = dict()\n",
    "tpr = dict()\n",
    "roc_auc = dict()\n",
    "for i in range(nb_classes):\n",
    "    fpr[i], tpr[i], _ = roc_curve(np_utils.to_categorical(y_test, nb_classes)[:, i], Y_test_pred[:, i])\n",
    "    roc_auc[i] = auc(fpr[i], tpr[i])\n"
   ]
  },
  {
   "cell_type": "markdown",
   "id": "9f33ecdf",
   "metadata": {},
   "source": [
    "### Precision-Recall curve"
   ]
  },
  {
   "cell_type": "code",
   "execution_count": 35,
   "id": "ff90fb69",
   "metadata": {},
   "outputs": [],
   "source": [
    "from sklearn.metrics import precision_recall_curve\n",
    "\n",
    "# Compute precision and recall for each class\n",
    "precision = dict()\n",
    "recall = dict()\n",
    "for i in range(nb_classes):\n",
    "    precision[i], recall[i], _ = precision_recall_curve(np_utils.to_categorical(y_test, nb_classes)[:, i], Y_test_pred[:, i])\n"
   ]
  },
  {
   "cell_type": "markdown",
   "id": "f145300a",
   "metadata": {},
   "source": [
    "### Confusion matrix"
   ]
  },
  {
   "cell_type": "code",
   "execution_count": 40,
   "id": "35346b5f",
   "metadata": {},
   "outputs": [],
   "source": [
    "from sklearn.metrics import confusion_matrix, plot_confusion_matrix\n",
    "\n",
    "#The input to confusion_matrix must be an array of int not one hot encodings\n",
    "matrix = confusion_matrix(np_utils.to_categorical(y_test, nb_classes).argmax(axis=1), Y_test_pred.argmax(axis=1))"
   ]
  },
  {
   "cell_type": "code",
   "execution_count": null,
   "id": "19e253e6",
   "metadata": {},
   "outputs": [],
   "source": []
  }
 ],
 "metadata": {
  "kernelspec": {
   "display_name": "Python 3 (ipykernel)",
   "language": "python",
   "name": "python3"
  },
  "language_info": {
   "codemirror_mode": {
    "name": "ipython",
    "version": 3
   },
   "file_extension": ".py",
   "mimetype": "text/x-python",
   "name": "python",
   "nbconvert_exporter": "python",
   "pygments_lexer": "ipython3",
   "version": "3.9.9"
  }
 },
 "nbformat": 4,
 "nbformat_minor": 5
}
